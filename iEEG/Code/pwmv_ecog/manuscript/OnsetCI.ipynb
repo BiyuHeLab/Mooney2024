{
 "cells": [
  {
   "cell_type": "markdown",
   "metadata": {},
   "source": [
    "# Onset Confidence Intervals"
   ]
  },
  {
   "cell_type": "code",
   "execution_count": 1,
   "metadata": {},
   "outputs": [],
   "source": [
    "import pickle\n",
    "from pathlib import Path\n",
    "import matplotlib.pyplot as plt\n",
    "import numpy as np\n",
    "import pandas as pd\n",
    "from pwmv_ecog.analysis.image_preference import ImagePreferenceAnalysis\n",
    "from pwmv_ecog.analysis.mean_roi import MeanROIAnalysis as mra\n",
    "from pwmv_ecog.manuscript.nature_figures import SIGBARCOLORS, SUBJECTS"
   ]
  },
  {
   "cell_type": "code",
   "execution_count": 2,
   "metadata": {},
   "outputs": [],
   "source": [
    "resultsOfInterest = {'mra': [(\"EVC\",\"Post>Pre\"),(\"HLVC\", \"Post>Pre\"),(\"FPN\",\"Post>Pre\")], 'ipa': [(\"HLVC\",\"Post>0\"),(\"EVC\",\"Post>0\")]}\n",
    "expectedN = 2000"
   ]
  },
  {
   "cell_type": "code",
   "execution_count": 3,
   "metadata": {},
   "outputs": [
    {
     "name": "stdout",
     "output_type": "stream",
     "text": [
      "Loaded MeanROIAnalysis from ../Analysis/MeanROI/network/MeanROIAnalysis_network_HGP_1001,2-6,9-21.pkl.\n",
      "Loaded ImagePreferenceAnalysis from ../Analysis/ImagePref/network/ImagePreferenceAnalysis_HGP_network_None_0.1_1001,2-6,9-21.pkl.\n"
     ]
    }
   ],
   "source": [
    "meanROIReal: mra = mra(SUBJECTS).load()\n",
    "imagePrefReal: ImagePreferenceAnalysis = ImagePreferenceAnalysis(SUBJECTS).load()\n",
    "imagePrefTypeTypeMap = {'Pre>0':'Pre','Post>0':'Post','Post>Pre':'Post - Pre'}"
   ]
  },
  {
   "cell_type": "code",
   "execution_count": 4,
   "metadata": {},
   "outputs": [
    {
     "name": "stdout",
     "output_type": "stream",
     "text": [
      "Found 11 MRA bootstrap results.\n",
      "Found 3 conditions of interest for Mean ROI Analysis all with 2000 bootstrapped replications: [('EVC', 'Post>Pre'), ('HLVC', 'Post>Pre'), ('FPN', 'Post>Pre')]\n"
     ]
    }
   ],
   "source": [
    "bootstrapSaveDir  = Path(\"../Analysis/MeanROI/data/bootstrap\")\n",
    "bootstrapResultFiles = sorted(bootstrapSaveDir.glob('*electrode_mean*bootstrap_results.pkl'))\n",
    "print(f'Found {len(bootstrapResultFiles)} MRA bootstrap results.')\n",
    "\n",
    "def filenameToMRACondName(fname):\n",
    "    return tuple(fname.name.removesuffix('_bootstrap_results.pkl').replace(f'_electrode_mean_HGP_{SUBJECTS}','').split('_'))\n",
    "\n",
    "mraBootResults = {}\n",
    "realMRAClusterStats = {}\n",
    "for file in bootstrapResultFiles:\n",
    "    conditionName = filenameToMRACondName(file)\n",
    "    if conditionName not in resultsOfInterest['mra']:\n",
    "        continue\n",
    "    with file.open('rb') as f:\n",
    "        mraBootResults[conditionName] = pickle.load(f)\n",
    "    realMRAClusterStats[conditionName] = meanROIReal.clusterStats[conditionName[0]][conditionName[1]]\n",
    "assert all([len(br)==expectedN for br in mraBootResults.values()])\n",
    "assert len(mraBootResults) == len(resultsOfInterest['mra'])\n",
    "mraBootResults = {k:mraBootResults[k] for k in resultsOfInterest['mra']}\n",
    "print(f'Found {len(mraBootResults)} conditions of interest for Mean ROI Analysis all with {expectedN} bootstrapped replications: {list(mraBootResults.keys())}')"
   ]
  },
  {
   "cell_type": "code",
   "execution_count": 5,
   "metadata": {},
   "outputs": [
    {
     "name": "stdout",
     "output_type": "stream",
     "text": [
      "Found 4 IPA bootstrap results.\n",
      "[(('EVC', 'Post>0'), 2026), (('HLVC', 'Post>0'), 2126)]\n",
      "Trimming superfluous bootstraps...\n",
      "[(('EVC', 'Post>0'), 2000), (('HLVC', 'Post>0'), 2000)]\n"
     ]
    }
   ],
   "source": [
    "imagePrefDataPath = Path('../Analysis/ImagePref/data/bootstrap')\n",
    "imagePrefPickles = list(imagePrefDataPath.glob('**/*bootstrap_results.pkl'))\n",
    "print(f'Found {len(imagePrefPickles)} IPA bootstrap results.')\n",
    "imagePrefPickles\n",
    "\n",
    "def filenameToIPACondName(fname):\n",
    "    return tuple(fname.name.removesuffix('_bootstrap_results.pkl').replace(f'_image_preference_HGP_{SUBJECTS}','').split('_'))\n",
    "\n",
    "ipaBootResults = {}\n",
    "realIPAClusterStats = {}\n",
    "for file in imagePrefPickles:\n",
    "    conditionName = filenameToIPACondName(file)\n",
    "    if conditionName not in resultsOfInterest['ipa']:\n",
    "        continue\n",
    "    # print(conditionName)\n",
    "    with file.open('rb') as f:\n",
    "        ipaBootResults[conditionName]=pickle.load(f)\n",
    "    realIPAClusterStats[conditionName] = imagePrefReal.clusterStats[conditionName[0]][imagePrefTypeTypeMap[conditionName[1]]]\n",
    "print([(k,len(v)) for k,v in ipaBootResults.items()])\n",
    "print('Trimming superfluous bootstraps...')\n",
    "ipaBootResults = {k:v[:expectedN] for k,v in ipaBootResults.items()}\n",
    "print([(k,len(v)) for k,v in ipaBootResults.items()])"
   ]
  },
  {
   "cell_type": "code",
   "execution_count": 6,
   "metadata": {},
   "outputs": [],
   "source": [
    "def matchedOnsets(bootResults, realClusterStats):\n",
    "    matchedOnsets = {}\n",
    "    for condName,bootResults in bootResults.items():\n",
    "        sigClusters = realClusterStats[condName].clusterDF()[realClusterStats[condName].clusterDF().pVal <=0.05]\n",
    "        matchedOnsets[condName] = []\n",
    "        for realClusterRow in sigClusters.itertuples():\n",
    "            onsets = []\n",
    "            for results in bootResults:\n",
    "                if pd.isna(results.sigClusterPlotPoints).all():\n",
    "                    onsets.append(np.nan)\n",
    "                else:\n",
    "                    overlapBootClusters = results.clusterDF()[(results.clusterDF().endCluster>realClusterRow.startCluster) & (results.clusterDF().startCluster <realClusterRow.endCluster) & (results.clusterDF().pVal <=0.05)]\n",
    "                    if len(overlapBootClusters):\n",
    "                        onsets.append(results.refIndex[overlapBootClusters['startCluster'].sort_values().iat[0]])\n",
    "                    else:\n",
    "                        onsets.append(np.nan)\n",
    "            matchedOnsets[condName].append(onsets)\n",
    "    return matchedOnsets\n",
    "mraOnsets = matchedOnsets(mraBootResults, realMRAClusterStats)\n",
    "ipaOnsets = matchedOnsets(ipaBootResults, realIPAClusterStats)"
   ]
  },
  {
   "cell_type": "markdown",
   "metadata": {},
   "source": [
    "## 95% CI"
   ]
  },
  {
   "cell_type": "code",
   "execution_count": 7,
   "metadata": {},
   "outputs": [],
   "source": [
    "onsetCI = {}\n",
    "for analysisName, onsets in [('mra',mraOnsets), ('ipa',ipaOnsets)]:\n",
    "    for condName, onsetList in onsets.items():\n",
    "        onsetCI[analysisName, condName] = np.nanpercentile(onsetList, [2.5, 97.5], method=\"higher\")"
   ]
  },
  {
   "cell_type": "code",
   "execution_count": 8,
   "metadata": {},
   "outputs": [
    {
     "name": "stdout",
     "output_type": "stream",
     "text": [
      "95% CI\n"
     ]
    },
    {
     "data": {
      "text/plain": [
       "{('mra', ('EVC', 'Post>Pre')): array([0.74414062, 0.89257812]),\n",
       " ('mra', ('HLVC', 'Post>Pre')): array([0.19140625, 0.55078125]),\n",
       " ('mra', ('FPN', 'Post>Pre')): array([0.609375  , 0.94335938]),\n",
       " ('ipa', ('EVC', 'Post>0')): array([0.2421875 , 0.45507812]),\n",
       " ('ipa', ('HLVC', 'Post>0')): array([0.15234375, 0.41992188])}"
      ]
     },
     "execution_count": 8,
     "metadata": {},
     "output_type": "execute_result"
    }
   ],
   "source": [
    "print('95% CI')\n",
    "onsetCI"
   ]
  }
 ],
 "metadata": {
  "kernelspec": {
   "display_name": ".venv",
   "language": "python",
   "name": "python3"
  },
  "language_info": {
   "codemirror_mode": {
    "name": "ipython",
    "version": 3
   },
   "file_extension": ".py",
   "mimetype": "text/x-python",
   "name": "python",
   "nbconvert_exporter": "python",
   "pygments_lexer": "ipython3",
   "version": "3.11.9"
  }
 },
 "nbformat": 4,
 "nbformat_minor": 2
}
